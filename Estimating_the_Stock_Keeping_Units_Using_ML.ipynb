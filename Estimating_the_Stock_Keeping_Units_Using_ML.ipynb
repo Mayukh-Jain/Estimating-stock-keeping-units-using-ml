{
  "cells": [
    {
      "cell_type": "code",
      "execution_count": 9,
      "metadata": {
        "id": "JMBxgvPyvLGP"
      },
      "outputs": [],
      "source": [
        "!pip install pandas numpy seaborn matplotlib scikit-learn --quiet"
      ]
    },
    {
      "cell_type": "code",
      "execution_count": 10,
      "metadata": {
        "colab": {
          "base_uri": "https://localhost:8080/"
        },
        "id": "lSXvaFz2qcpN",
        "outputId": "6f5b3f24-05aa-444b-9018-fcdbe4194ba4"
      },
      "outputs": [
        {
          "name": "stdout",
          "output_type": "stream",
          "text": [
            "Libraries loaded successfully!\n"
          ]
        }
      ],
      "source": [
        "import numpy as np\n",
        "import pandas as pd\n",
        "import seaborn as sns\n",
        "import matplotlib.pyplot as plt\n",
        "import scipy.stats as stats\n",
        "\n",
        "from sklearn.preprocessing import StandardScaler, LabelEncoder\n",
        "from sklearn.impute import SimpleImputer\n",
        "from sklearn.model_selection import train_test_split\n",
        "\n",
        "# Enable inline plotting (use this only in Jupyter notebooks)\n",
        "%matplotlib inline\n",
        "\n",
        "# Set Seaborn style for plots\n",
        "sns.set(style=\"whitegrid\")\n",
        "\n",
        "print(\"Libraries loaded successfully!\")\n"
      ]
    },
    {
      "cell_type": "code",
      "execution_count": 14,
      "metadata": {
        "colab": {
          "base_uri": "https://localhost:8080/",
          "height": 73
        },
        "id": "q6kxiKrjyUzg",
        "outputId": "5dbb91ab-8ddb-4eae-95f0-8c03cdf99191"
      },
      "outputs": [
        {
          "ename": "ModuleNotFoundError",
          "evalue": "No module named 'google'",
          "output_type": "error",
          "traceback": [
            "\u001b[31m---------------------------------------------------------------------------\u001b[39m",
            "\u001b[31mModuleNotFoundError\u001b[39m                       Traceback (most recent call last)",
            "\u001b[36mCell\u001b[39m\u001b[36m \u001b[39m\u001b[32mIn[14]\u001b[39m\u001b[32m, line 1\u001b[39m\n\u001b[32m----> \u001b[39m\u001b[32m1\u001b[39m \u001b[38;5;28;01mfrom\u001b[39;00m\u001b[38;5;250m \u001b[39m\u001b[34;01mgoogle\u001b[39;00m\u001b[34;01m.\u001b[39;00m\u001b[34;01mcolab\u001b[39;00m\u001b[38;5;250m \u001b[39m\u001b[38;5;28;01mimport\u001b[39;00m files\n\u001b[32m      2\u001b[39m uploaded = files.upload()\n",
            "\u001b[31mModuleNotFoundError\u001b[39m: No module named 'google'"
          ]
        }
      ],
      "source": [
        "from google.colab import files\n",
        "uploaded = files.upload()"
      ]
    },
    {
      "cell_type": "code",
      "execution_count": null,
      "metadata": {
        "colab": {
          "base_uri": "https://localhost:8080/"
        },
        "id": "DO8KNWCqyrWG",
        "outputId": "a312acd0-c25f-4a62-a751-c37ccbac01c0"
      },
      "outputs": [],
      "source": [
        "import zipfile\n",
        "\n",
        "zip_path = \"archive.zip\"\n",
        "\n",
        "with zipfile.ZipFile(zip_path, 'r') as zip_ref:\n",
        "    zip_ref.extractall(\"data\")\n",
        "\n",
        "print(\"ZIP extracted to 'data/'\")"
      ]
    },
    {
      "cell_type": "code",
      "execution_count": null,
      "metadata": {
        "colab": {
          "base_uri": "https://localhost:8080/"
        },
        "id": "7yERUoMDzgwY",
        "outputId": "8d13a9af-5c3e-4545-e65c-75a6da179bc5"
      },
      "outputs": [],
      "source": [
        "import os\n",
        "\n",
        "for root, dirs, files in os.walk(\"data\"):\n",
        "    for file in files:\n",
        "        print(os.path.join(root, file))"
      ]
    },
    {
      "cell_type": "code",
      "execution_count": null,
      "metadata": {
        "colab": {
          "base_uri": "https://localhost:8080/"
        },
        "id": "Jv_PP0bTzk5A",
        "outputId": "ab5f9f15-b1dc-4aba-fa7f-96db7bc79519"
      },
      "outputs": [],
      "source": [
        "import os\n",
        "\n",
        "for root, dirs, files in os.walk(\"data\"):\n",
        "    for file in files:\n",
        "        print(os.path.join(root, file))"
      ]
    },
    {
      "cell_type": "code",
      "execution_count": null,
      "metadata": {
        "colab": {
          "base_uri": "https://localhost:8080/",
          "height": 498
        },
        "id": "px4AREJYz6DI",
        "outputId": "b871b6ad-16da-4969-e1a4-2f2660299654"
      },
      "outputs": [],
      "source": [
        "import pandas as pd\n",
        "\n",
        "df = pd.read_csv(\"data/train_0irEZ2H.csv\")\n",
        "\n",
        "df.info()\n",
        "df.head()"
      ]
    },
    {
      "cell_type": "code",
      "execution_count": null,
      "metadata": {
        "colab": {
          "base_uri": "https://localhost:8080/"
        },
        "id": "w3Ebu8hu2WrR",
        "outputId": "22a8bee4-86d7-4920-874a-f19ed5529040"
      },
      "outputs": [],
      "source": [
        "import pandas as pd\n",
        "\n",
        "df = pd.read_csv(\"data/train_0irEZ2H.csv\")\n",
        "\n",
        "categorical_fields = df.select_dtypes(include=['object', 'datetime']).columns.tolist()\n",
        "numerical_fields = df.select_dtypes(include=['int64', 'float64']).columns.tolist()\n",
        "\n",
        "print(\"categorical.fields\")\n",
        "print(categorical_fields)"
      ]
    },
    {
      "cell_type": "code",
      "execution_count": null,
      "metadata": {
        "colab": {
          "base_uri": "https://localhost:8080/"
        },
        "id": "ZqPA7nyc1t4g",
        "outputId": "23a818a3-c4df-4384-c7ee-29b8c7f17752"
      },
      "outputs": [],
      "source": [
        "print(\"\\nnumerical.fields\")\n",
        "print(numerical_fields)"
      ]
    },
    {
      "cell_type": "code",
      "execution_count": null,
      "metadata": {
        "colab": {
          "base_uri": "https://localhost:8080/"
        },
        "id": "tftjGsPh2bDB",
        "outputId": "fb2e33b0-2801-4189-8b83-de705b563ee7"
      },
      "outputs": [],
      "source": [
        "print(\"\\nmissing_values\")\n",
        "print(df[numerical_fields].isnull().sum())\n",
        "\n",
        "df[numerical_fields] = df[numerical_fields].fillna(df[numerical_fields].mean())\n",
        "\n",
        "print(\"\\nnumerical.impute() done (mean imputation)\")"
      ]
    },
    {
      "cell_type": "code",
      "execution_count": null,
      "metadata": {
        "colab": {
          "base_uri": "https://localhost:8080/"
        },
        "id": "Rg-_5CQN2MTI",
        "outputId": "7f45e90b-620c-43e0-e631-eb8b9372a302"
      },
      "outputs": [],
      "source": [
        "import pandas as pd\n",
        "\n",
        "df = pd.read_csv(\"data/train_0irEZ2H.csv\")\n",
        "\n",
        "df['key'] = df['week'].astype(str) + '_' + df['store_id'].astype(str)\n",
        "\n",
        "df = df.drop(['record_ID', 'week', 'store_id', 'sku_id', 'total_price',\n",
        "              'base_price', 'is_featured_sku', 'is_display_sku'], axis=1)\n",
        "\n",
        "df = df.groupby('key').sum()\n",
        "\n",
        "print(df.head())\n",
        "print(\"\\nShape of final grouped dataset:\", df.shape)"
      ]
    },
    {
      "cell_type": "code",
      "execution_count": null,
      "metadata": {
        "colab": {
          "base_uri": "https://localhost:8080/",
          "height": 801
        },
        "id": "KxbcETgH2uDI",
        "outputId": "87a03636-4832-4769-e4b0-655579fef7c8"
      },
      "outputs": [],
      "source": [
        "import matplotlib.pyplot as plt\n",
        "\n",
        "df[:100].plot(figsize=(12, 8))\n",
        "\n",
        "plt.title(\"Units Sold Over Time (First 100 Records)\", fontsize=16)\n",
        "plt.xlabel(\"Key (Week_Store)\", fontsize=12)\n",
        "plt.ylabel(\"Units Sold\", fontsize=12)\n",
        "plt.grid(True)\n",
        "plt.legend()\n",
        "plt.tight_layout()\n",
        "plt.show()"
      ]
    },
    {
      "cell_type": "code",
      "execution_count": null,
      "metadata": {
        "colab": {
          "base_uri": "https://localhost:8080/",
          "height": 237
        },
        "id": "CGwfv8X63cXx",
        "outputId": "e0b77386-e58a-4b1f-c8e8-b689af5bb696"
      },
      "outputs": [],
      "source": [
        "df['day_1'] = df['units_sold'].shift(1)\n",
        "df['day_2'] = df['units_sold'].shift(2)\n",
        "df['day_3'] = df['units_sold'].shift(3)\n",
        "df['day_4'] = df['units_sold'].shift(4)\n",
        "\n",
        "df.head()"
      ]
    },
    {
      "cell_type": "code",
      "execution_count": null,
      "metadata": {
        "id": "IfSa2Msr2wWJ"
      },
      "outputs": [],
      "source": [
        "import pandas as pd\n",
        "import matplotlib.pyplot as plt\n",
        "\n",
        "df = pd.read_csv(\"data/train_0irEZ2H.csv\")\n",
        "\n",
        "df['key'] = df['week'].astype(str) + '_' + df['store_id'].astype(str)\n",
        "\n",
        "df = df.drop(['record_ID', 'week', 'store_id', 'sku_id', 'total_price', 'base_price', 'is_featured_sku', 'is_display_sku'], axis=1)\n",
        "\n",
        "df = df.groupby('key').sum()\n",
        "\n",
        "df['day_1'] = df['units_sold'].shift(1)\n",
        "df['day_2'] = df['units_sold'].shift(2)\n",
        "df['day_3'] = df['units_sold'].shift(3)\n",
        "df['day_4'] = df['units_sold'].shift(4)"
      ]
    },
    {
      "cell_type": "code",
      "execution_count": null,
      "metadata": {
        "colab": {
          "base_uri": "https://localhost:8080/",
          "height": 728
        },
        "id": "3SfwwfoY3Oh5",
        "outputId": "84e80c91-90e1-4159-8811-04b19501fba5"
      },
      "outputs": [],
      "source": [
        "df = df.dropna()\n",
        "\n",
        "df[:100].plot(figsize=(12, 8))\n",
        "plt.xlabel(\"key\")\n",
        "plt.ylabel(\"units_sold and lag values\")\n",
        "plt.title(\"Sales Trends with Lag Features\")\n",
        "plt.grid(True)\n",
        "plt.show()"
      ]
    },
    {
      "cell_type": "code",
      "execution_count": null,
      "metadata": {
        "colab": {
          "base_uri": "https://localhost:8080/"
        },
        "id": "Jz8N9C2d3l0S",
        "outputId": "b3816781-1b8c-4806-f737-e724c6b4e404"
      },
      "outputs": [],
      "source": [
        "import numpy as np\n",
        "\n",
        "x1, x2, x3, x4, y = df['day_1'], df['day_2'], df['day_3'], df['day_4'], df['units_sold']\n",
        "\n",
        "x1, x2, x3, x4, y = (\n",
        "    np.array(x1).reshape(-1, 1),\n",
        "    np.array(x2).reshape(-1, 1),\n",
        "    np.array(x3).reshape(-1, 1),\n",
        "    np.array(x4).reshape(-1, 1),\n",
        "    np.array(y).reshape(-1, 1)\n",
        ")\n",
        "\n",
        "x = np.concatenate((x1, x2, x3, x4), axis=1)\n",
        "\n",
        "split_percentage = 15\n",
        "test_split = int(len(df) * (split_percentage / 100))\n",
        "\n",
        "x_train, x_test = x[:-test_split], x[-test_split:]\n",
        "y_train, y_test = y[:-test_split], y[-test_split:]\n",
        "\n",
        "print(x_train.shape)\n",
        "print(x_test.shape)\n",
        "print(y_train.shape)\n",
        "print(y_test.shape)"
      ]
    },
    {
      "cell_type": "code",
      "execution_count": null,
      "metadata": {
        "colab": {
          "base_uri": "https://localhost:8080/"
        },
        "id": "jzPbMJ7Q37pb",
        "outputId": "881762dc-b8a7-45e9-8c14-1db096c51a46"
      },
      "outputs": [],
      "source": [
        "from sklearn.ensemble import RandomForestRegressor\n",
        "\n",
        "rf_regressor = RandomForestRegressor()\n",
        "\n",
        "rf_regressor.fit(x_train, y_train.ravel())\n",
        "\n",
        "y_pred = rf_regressor.predict(x_test)\n",
        "\n",
        "print(\"R Sq. Score for Random Forest Regression :\", rf_regressor.score(x_test, y_test))"
      ]
    },
    {
      "cell_type": "code",
      "execution_count": null,
      "metadata": {
        "colab": {
          "base_uri": "https://localhost:8080/",
          "height": 681
        },
        "id": "tBhbd3vF4dY6",
        "outputId": "2c14d442-2625-46bb-a7da-98ffa3bd29c0"
      },
      "outputs": [],
      "source": [
        "import matplotlib.pyplot as plt\n",
        "\n",
        "plt.rcParams[\"figure.figsize\"] = (12, 8)\n",
        "\n",
        "plt.plot(y_pred[-100:], label='Predictions')\n",
        "plt.plot(y_test[-100:], label='Actual Sales')\n",
        "\n",
        "plt.legend(loc='upper left')\n",
        "\n",
        "plt.show()"
      ]
    },
    {
      "cell_type": "code",
      "execution_count": null,
      "metadata": {
        "colab": {
          "base_uri": "https://localhost:8080/"
        },
        "id": "ySkz8PfM4e6C",
        "outputId": "b91e223d-0133-4fe9-8bdf-abcd2de0c014"
      },
      "outputs": [],
      "source": [
        "!pip install xgboost"
      ]
    },
    {
      "cell_type": "code",
      "execution_count": null,
      "metadata": {
        "colab": {
          "base_uri": "https://localhost:8080/"
        },
        "id": "ht--rqsW7Zap",
        "outputId": "55fede1c-a907-499b-93d4-47769d5bc534"
      },
      "outputs": [],
      "source": [
        "import xgboost as xgb\n",
        "from xgboost import XGBRegressor\n",
        "\n",
        "xgb_regressor = XGBRegressor()\n",
        "xgb_regressor.fit(x_train, y_train.ravel())\n",
        "\n",
        "y_pred = xgb_regressor.predict(x_test)\n",
        "\n",
        "print(\"R Sq. Score for XGBoost:\", xgb_regressor.score(x_test, y_test))"
      ]
    },
    {
      "cell_type": "code",
      "execution_count": null,
      "metadata": {
        "colab": {
          "base_uri": "https://localhost:8080/",
          "height": 573
        },
        "id": "KdagVpiv8rs6",
        "outputId": "087d3d2b-154f-4f93-e0ab-976025e15237"
      },
      "outputs": [],
      "source": [
        "import matplotlib.pyplot as plt\n",
        "\n",
        "plt.rcParams[\"figure.figsize\"] = (12, 6)\n",
        "\n",
        "plt.plot(y_pred[-100:], label='Predictions', color='orange')\n",
        "plt.plot(y_test[-100:], label='Actual Sales', color='blue')\n",
        "\n",
        "plt.legend(loc=\"upper left\")\n",
        "plt.title(\"XGBoost Predictions vs Actual Sales (Last 100 Days)\")\n",
        "plt.xlabel(\"Sample\")\n",
        "plt.ylabel(\"Units Sold\")\n",
        "plt.grid(True)\n",
        "plt.show()"
      ]
    },
    {
      "cell_type": "code",
      "execution_count": null,
      "metadata": {
        "colab": {
          "base_uri": "https://localhost:8080/"
        },
        "id": "ESrnI6289T67",
        "outputId": "2b3af802-f1d0-405c-ddd5-fb6f8a6fa4a4"
      },
      "outputs": [],
      "source": [
        "import numpy as np\n",
        "from sklearn.model_selection import RandomizedSearchCV\n",
        "\n",
        "n_estimators = [int(x) for x in np.linspace(start=50, stop=250, num=10)]\n",
        "\n",
        "max_features = ['auto', 'sqrt']\n",
        "\n",
        "max_depth = [int(x) for x in np.linspace(0, 120, num=20)]\n",
        "max_depth.append(None)\n",
        "\n",
        "min_samples_split = [2, 5, 10]\n",
        "\n",
        "min_samples_leaf = [1, 2, 4]\n",
        "\n",
        "bootstrap = [True, False]\n",
        "\n",
        "random_grid = {\n",
        "    'n_estimators': n_estimators,\n",
        "    'max_features': max_features,\n",
        "    'max_depth': max_depth,\n",
        "    'min_samples_split': min_samples_split,\n",
        "    'min_samples_leaf': min_samples_leaf,\n",
        "    'bootstrap': bootstrap\n",
        "}\n",
        "\n",
        "from pprint import pprint\n",
        "pprint(random_grid)"
      ]
    },
    {
      "cell_type": "code",
      "execution_count": null,
      "metadata": {
        "colab": {
          "base_uri": "https://localhost:8080/",
          "height": 860
        },
        "id": "HlmJ50V09_S7",
        "outputId": "0082d3cd-23f1-4b26-81a3-75df87e37ddc"
      },
      "outputs": [],
      "source": [
        "from sklearn.ensemble import RandomForestRegressor\n",
        "from sklearn.model_selection import RandomizedSearchCV\n",
        "\n",
        "rf = RandomForestRegressor()\n",
        "\n",
        "rf_random = RandomizedSearchCV(\n",
        "    estimator=rf,\n",
        "    param_distributions=random_grid,\n",
        "    n_iter=10,\n",
        "    cv=3,\n",
        "    verbose=2,\n",
        "    random_state=0,\n",
        "    n_jobs=-1\n",
        ")\n",
        "\n",
        "rf_random.fit(x_train, y_train.ravel())"
      ]
    },
    {
      "cell_type": "code",
      "execution_count": null,
      "metadata": {
        "colab": {
          "base_uri": "https://localhost:8080/"
        },
        "id": "5ar1vO-g-Sdi",
        "outputId": "defcaf6a-fb01-478e-91df-f66daf4dc87a"
      },
      "outputs": [],
      "source": [
        "print(\"Best Hyperparameters:\\n\", rf_random.best_params_)\n",
        "\n",
        "best_random = rf_random.best_estimator_\n",
        "y_pred = best_random.predict(x_test)\n",
        "\n",
        "r2 = best_random.score(x_test, y_test)\n",
        "print(\"R² Score for Random Forest Regression:\", r2)\n",
        "\n",
        "n = len(y_test)\n",
        "k = x_test.shape[1]\n",
        "adj_r2 = 1 - (1 - r2) * (n - 1) / (n - k - 1)\n",
        "print(\"Adjusted R² Score for Random Forest Regression:\", adj_r2)"
      ]
    },
    {
      "cell_type": "code",
      "execution_count": null,
      "metadata": {
        "colab": {
          "base_uri": "https://localhost:8080/",
          "height": 372
        },
        "id": "Jk4c67lm-tTj",
        "outputId": "6dfcb1b9-12d1-4236-a80e-f7966c08b380"
      },
      "outputs": [],
      "source": [
        "import matplotlib.pyplot as plt\n",
        "\n",
        "plt.rcParams[\"figure.figsize\"] = (30, 8)\n",
        "\n",
        "plt.plot(y_pred[500:800], label='Predictions')\n",
        "plt.plot(y_test[500:800], label='Actual Sales')\n",
        "\n",
        "plt.legend(loc=\"upper left\")\n",
        "\n",
        "plt.savefig('final.png')\n",
        "\n",
        "plt.show()"
      ]
    },
    {
      "cell_type": "code",
      "execution_count": null,
      "metadata": {
        "colab": {
          "base_uri": "https://localhost:8080/"
        },
        "id": "E0KYFX6e_LeK",
        "outputId": "e841a714-e460-4ab9-e520-a825dfe01e33"
      },
      "outputs": [],
      "source": [
        "import pickle\n",
        "import numpy as np\n",
        "\n",
        "pickle.dump(rf_regressor, open('sales_demand_forecasting.pkl', 'wb'))\n",
        "\n",
        "features = np.array([[682.0, 535.0, 210.0, 782.0]])\n",
        "\n",
        "print(\"Predicted Sales Units:\", rf_regressor.predict(features)[0])"
      ]
    }
  ],
  "metadata": {
    "colab": {
      "provenance": []
    },
    "kernelspec": {
      "display_name": "Python 3",
      "name": "python3"
    },
    "language_info": {
      "codemirror_mode": {
        "name": "ipython",
        "version": 3
      },
      "file_extension": ".py",
      "mimetype": "text/x-python",
      "name": "python",
      "nbconvert_exporter": "python",
      "pygments_lexer": "ipython3",
      "version": "3.13.3"
    }
  },
  "nbformat": 4,
  "nbformat_minor": 0
}
